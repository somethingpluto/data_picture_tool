{
 "cells": [
  {
   "cell_type": "code",
   "execution_count": 1,
   "metadata": {},
   "outputs": [],
   "source": [
    "import pandas as pd"
   ]
  },
  {
   "cell_type": "code",
   "execution_count": null,
   "metadata": {},
   "outputs": [],
   "source": [
    "metric_list = [\"recall\",\"f1\",\"precision\",\"auc\",\"accuracy\",\"balance\",\"mcc\"]\n",
    "for metric in metric_list:\n",
    "    with open(f\"./output/{metric}.txt\") as file:\n",
    "         file.readlines()"
   ]
  }
 ],
 "metadata": {
  "kernelspec": {
   "display_name": "ML38",
   "language": "python",
   "name": "python3"
  },
  "language_info": {
   "codemirror_mode": {
    "name": "ipython",
    "version": 3
   },
   "file_extension": ".py",
   "mimetype": "text/x-python",
   "name": "python",
   "nbconvert_exporter": "python",
   "pygments_lexer": "ipython3",
   "version": "3.8.18"
  }
 },
 "nbformat": 4,
 "nbformat_minor": 2
}
