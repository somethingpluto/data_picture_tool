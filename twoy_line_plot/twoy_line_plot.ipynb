{
 "cells": [
  {
   "cell_type": "code",
   "execution_count": 1,
   "metadata": {},
   "outputs": [],
   "source": [
    "import seaborn as sns\n",
    "import matplotlib.pyplot as plt\n",
    "from tqdm import tqdm\n",
    "import glob\n",
    "import pandas as pd\n",
    "import matplotlib.ticker as ticker\n",
    "from matplotlib.ticker import FuncFormatter"
   ]
  },
  {
   "cell_type": "code",
   "execution_count": 2,
   "metadata": {},
   "outputs": [],
   "source": [
    "DATA_DIR_PATH = \"./test_data\"\n",
    "OUTPUT_PATH = \"./picture\"\n",
    "file_list = []\n",
    "metric_map ={\n",
    "    \"f1\":\"F1\",\n",
    "    \"mcc\":\"MCC\",\n",
    "    \"precision\":\"Precision\",\n",
    "    \"recall\":\"Recall\"\n",
    "}\n",
    "DATA_SET = ['FONTANA','IST','MLCQ','NUCCI']\n",
    "METRIC_LIST =['recall','f1','precision','mcc']"
   ]
  },
  {
   "cell_type": "code",
   "execution_count": null,
   "metadata": {},
   "outputs": [],
   "source": [
    "for "
   ]
  }
 ],
 "metadata": {
  "kernelspec": {
   "display_name": "ML38",
   "language": "python",
   "name": "python3"
  },
  "language_info": {
   "codemirror_mode": {
    "name": "ipython",
    "version": 3
   },
   "file_extension": ".py",
   "mimetype": "text/x-python",
   "name": "python",
   "nbconvert_exporter": "python",
   "pygments_lexer": "ipython3",
   "version": "3.8.19"
  }
 },
 "nbformat": 4,
 "nbformat_minor": 2
}
